{
 "cells": [
  {
   "cell_type": "markdown",
   "metadata": {},
   "source": [
    "# Vectors and Matrices\n",
    "\n",
    "The first step towards developing a good understanding of linear algebra is to get a good sense of *\"what are vectors and matrices ?\"*. We also need to understand the relationship between these entities and how they relate to data structures. Let's try to develop a basic intuition around these ideas. \n",
    "\n",
    "## Example 1\n",
    "\n",
    "Let's say you go to a market and buy 4 apples and 5 bananas. For this you end up paying 8 dollars. If we denote apples by `a` and bananas  by `b`, this can be written down as an equation - let's call it Eq. A:"
   ]
  },
  {
   "cell_type": "markdown",
   "metadata": {},
   "source": [
    "**2a + 3b = 8** - (Eq. A)"
   ]
  },
  {
   "cell_type": "markdown",
   "metadata": {},
   "source": [
    "In your next trip to the market, you buy 8 apples and 12 bananas, and the cost is 20 dollars. Just like above, this can be written as Eq. B:"
   ]
  },
  {
   "cell_type": "markdown",
   "metadata": {},
   "source": [
    "**8a + 12b = 20** - (Eq. B)"
   ]
  },
  {
   "cell_type": "markdown",
   "metadata": {},
   "source": [
    "These two equations (known as simultaneous equation) form a system that can be easily solved by hand for values of a and b i.e. price of a single apple and banana. \n",
    "\n",
    "As your number of shopping trips increase, as well as the number of items you buy at each trip, the system of equations will become more complex and solving such system for individual price may become very expensive in terms of time and effort. In such cases, we expect a computer to find the solution for us. \n",
    "\n",
    "This example is simple linear algebra problem. The numbers 2, 3 from Eq. 1 and 8, 12 from Eq.2  are linear co-efficients that relate input variables `a` and `b` to the known output 8 and 20.  \n",
    "\n",
    "Using linear algebra , we can write this down as shown below:"
   ]
  },
  {
   "cell_type": "markdown",
   "metadata": {},
   "source": [
    "$$\n",
    "\\left(\\begin{array}{cc} \n",
    "2 & 3\\\\\n",
    "8 & 12\n",
    "\\end{array}\\right)\n",
    "\\left(\\begin{array}{cc} \n",
    "a\\\\ \n",
    "b\n",
    "\\end{array}\\right)\n",
    "=\n",
    "\\left(\\begin{array}{cc} \n",
    "8\\\\ \n",
    "20\n",
    "\\end{array}\\right)\n",
    "$$ "
   ]
  },
  {
   "cell_type": "code",
   "execution_count": null,
   "metadata": {},
   "outputs": [],
   "source": []
  }
 ],
 "metadata": {
  "kernelspec": {
   "display_name": "Python 3",
   "language": "python",
   "name": "python3"
  },
  "language_info": {
   "codemirror_mode": {
    "name": "ipython",
    "version": 3
   },
   "file_extension": ".py",
   "mimetype": "text/x-python",
   "name": "python",
   "nbconvert_exporter": "python",
   "pygments_lexer": "ipython3",
   "version": "3.6.4"
  }
 },
 "nbformat": 4,
 "nbformat_minor": 2
}
